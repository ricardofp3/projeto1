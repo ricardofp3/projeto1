{
 "cells": [
  {
   "cell_type": "code",
   "execution_count": 1,
   "metadata": {},
   "outputs": [],
   "source": [
    "%matplotlib inline\n",
    "import pandas as pd\n",
    "import numpy as np\n",
    "import math as math\n",
    "from scipy import stats\n",
    "import matplotlib.pyplot as plt"
   ]
  },
  {
   "cell_type": "markdown",
   "metadata": {},
   "source": [
    "### Objetivo:\n",
    "O objetivo deste estudo é analisar a diferença entre a renda de homens e mulheres economicamente ativos considerando também os parâmetros idade e unidade federativa. Além disso fazer uma comparação entre os resultados obtidos nos anos de 2011 e 2015 a analisar se existe diferenca entre a renda dos homens e das mulheres em diferentes estados. E se houver diferenca se a mesma mudou ao longo dos anos.\n"
   ]
  },
  {
   "cell_type": "code",
   "execution_count": 2,
   "metadata": {},
   "outputs": [],
   "source": [
    "#dados2011 = pd.read_csv(\"PES2011.csv\")  \n",
    "dados2015 = pd.read_csv(\"PES2015.csv\")"
   ]
  },
  {
   "cell_type": "code",
   "execution_count": 3,
   "metadata": {},
   "outputs": [],
   "source": [
    "d15 = dados2015[[\"UF\",'V0302',\"V8005\",\"V9532\"]]\n",
    "d15.columns = [\"UF\",\"Sexo\",\"Idade\",\"Renda\"]\n",
    "d15 = d15.loc[(d15[\"Idade\"]>= 14)]\n",
    "d15 = d15.loc[(d15[\"Renda\"] > 0) & (d15[\"Renda\"] <999999999999)]"
   ]
  },
  {
   "cell_type": "markdown",
   "metadata": {},
   "source": [
    "No código acima decidimos que a idade mínima que seria util para a análise é a de 14 anos pois inclui todos os trabalhadores legalizados (menores aprendizes). Além disso o filtro de renda foi realizado de forma a exxluir os n/a e os que possuem renda não declarada que está representada por pelo número 999999999999."
   ]
  },
  {
   "cell_type": "markdown",
   "metadata": {},
   "source": [
    "### Parâmetro idade:"
   ]
  },
  {
   "cell_type": "code",
   "execution_count": 4,
   "metadata": {
    "scrolled": true
   },
   "outputs": [
    {
     "data": {
      "text/plain": [
       "count    152132.000000\n",
       "mean         38.951976\n",
       "std          13.041330\n",
       "min          14.000000\n",
       "25%          29.000000\n",
       "50%          38.000000\n",
       "75%          49.000000\n",
       "max          95.000000\n",
       "Name: Idade, dtype: float64"
      ]
     },
     "execution_count": 4,
     "metadata": {},
     "output_type": "execute_result"
    },
    {
     "data": {
      "image/png": "[encoded data removed]",
      "text/plain": [
       "<Figure size 432x288 with 1 Axes>"
      ]
     },
     "metadata": {
      "needs_background": "light"
     },
     "output_type": "display_data"
    }
   ],
   "source": [
    "d15.Idade.plot.box()\n",
    "plt.grid()\n",
    "\n",
    "d15.Idade.describe()"
   ]
  },
  {
   "cell_type": "markdown",
   "metadata": {},
   "source": [
    "### Análise do parâmetro idade:\n",
    "Como podemos ver no boxplot o primeiro, segundo e terceiro quartil possuem concentracoes parecidas, porém o quarto quartil abrange uma grande quantidade de idades, possuindo assim menor concentracao por faixa. Além disso é perceptivel pelas bolinhas acima do quarto quartil que existem diversos outliers, que sao prejudiciais para a interpretacao dos dados numericos presentes no describe, pois deslocam a (mediana ou media). "
   ]
  },
  {
   "cell_type": "code",
   "execution_count": null,
   "metadata": {},
   "outputs": [
    {
     "data": {
      "text/plain": [
       "<matplotlib.axes._subplots.AxesSubplot at 0x1d9f43c5c18>"
      ]
     },
     "execution_count": 6,
     "metadata": {},
     "output_type": "execute_result"
    }
   ],
   "source": [
    "#d15.Sexo.plot(kind=\"bar\")\n",
    "d15[\"Sexo\"].plot(kind = \"pie\", colors = (\"blue\", \"red\"), legend = False)"
   ]
  },
  {
   "cell_type": "code",
   "execution_count": null,
   "metadata": {},
   "outputs": [],
   "source": [
    "d15.loc[(d15[\"Sexo\"] == 2), \"Sexo\"] = \"Homem\"\n",
    "d15.loc[(d15[\"Sexo\"] == 4), \"Sexo\"] = \"Mulher\"\n",
    "\n",
    "\n",
    "d15.loc[(d15.UF>10)&(d15.UF<20), \"Regiao\"] = \"Norte\"\n",
    "d15.loc[(d15.UF>20)&(d15.UF<29), \"Regiao\"] = \"Nordeste\"\n",
    "d15.loc[(d15.UF>30)&(d15.UF<35), \"Regiao\"] = \"Sudeste\"\n",
    "d15.loc[(d15.UF>40)&(d15.UF<43), \"Regiao\"] = \"Sul\"\n",
    "d15.loc[(d15.UF>50)&(d15.UF<54), \"Regiao\"] = \"Centro-Oeste\"\n",
    "\n",
    "d15.head()"
   ]
  },
  {
   "cell_type": "markdown",
   "metadata": {},
   "source": [
    "No código acima, para compreender melhor os dados, substituimos os códigos númericos 2 e 4 pelos labels homem e mulher respectivamente. Além disso mudamos o nome das regiões de acordo com as suas numerações."
   ]
  },
  {
   "cell_type": "code",
   "execution_count": null,
   "metadata": {},
   "outputs": [],
   "source": [
    "d15.Renda.describe()"
   ]
  },
  {
   "cell_type": "code",
   "execution_count": null,
   "metadata": {},
   "outputs": [],
   "source": [
    "plot = d15.Renda.plot(kind='box')"
   ]
  },
  {
   "cell_type": "markdown",
   "metadata": {},
   "source": [
    "Inter"
   ]
  },
  {
   "cell_type": "code",
   "execution_count": null,
   "metadata": {},
   "outputs": [],
   "source": [
    "d15.loc[(d15.Renda <= 998), \"FaixaRenda\"] = 1\n",
    "d15.loc[(d15.Renda > 998) & (d15.Renda <= 1500), \"FaixaRenda\"] = 2\n",
    "d15.loc[(d15.Renda > 1500) & (d15.Renda <= 3000), \"FaixaRenda\"] = 3\n",
    "d15.loc[(d15.Renda > 3000) & (d15.Renda <= 4500), \"FaixaRenda\"] = 4\n",
    "d15.loc[(d15.Renda > 4500), \"FaixaRenda\"] = 5\n",
    "pd.crosstab(d15.FaixaRenda, d15.Regiao)"
   ]
  },
  {
   "cell_type": "markdown",
   "metadata": {},
   "source": [
    "Dividimos os valores em faixas para que a análise pudesse ser realizada u"
   ]
  },
  {
   "cell_type": "code",
   "execution_count": null,
   "metadata": {},
   "outputs": [],
   "source": [
    "Prendimento = d15['FaixaRenda'].value_counts(normalize = True)*100\n",
    "Prendimento.plot(kind = \"bar\")\n",
    "#plt.show()\n",
    "\n"
   ]
  },
  {
   "cell_type": "code",
   "execution_count": null,
   "metadata": {},
   "outputs": [],
   "source": [
    "#interpretacao do grafico"
   ]
  },
  {
   "cell_type": "code",
   "execution_count": null,
   "metadata": {},
   "outputs": [],
   "source": []
  },
  {
   "cell_type": "code",
   "execution_count": null,
   "metadata": {},
   "outputs": [],
   "source": [
    "centrooeste = d15[d15.Regiao == \"Centro-Oeste\"]\n",
    "mediacentro = centrooeste.Renda.mean()\n",
    "nordeste = d15[d15.Regiao == \"Nordeste\"]\n",
    "mediaNordeste = nordeste.Renda.mean()\n",
    "norte = d15[d15.Regiao == \"Norte\"]\n",
    "mediaNorte = norte.Renda.mean()\n",
    "sudeste = d15[d15.Regiao == \"Sudeste\"]\n",
    "mediaSudeste = sudeste.Renda.mean()\n",
    "sul = d15[d15.Regiao == \"Sul\"]\n",
    "mediaSul = sul.Renda.mean()\n",
    "\n",
    "medias_rendimento = [mediacentro, mediaNordeste, mediaNorte, mediaSudeste , mediaSul]\n",
    "regioes = [\"Centro-Oeste\", \"Nordeste\", \"Norte\", \"Sudeste\",\"Sul\"]\n",
    "plt.bar(regioes, medias_rendimento)\n",
    "plt.title(\"Renda média por Região\")\n",
    "plt.show()\n",
    "\n",
    "d15.head()"
   ]
  },
  {
   "cell_type": "code",
   "execution_count": null,
   "metadata": {},
   "outputs": [],
   "source": []
  },
  {
   "cell_type": "code",
   "execution_count": null,
   "metadata": {},
   "outputs": [],
   "source": []
  },
  {
   "cell_type": "code",
   "execution_count": null,
   "metadata": {},
   "outputs": [],
   "source": [
    "#analise do grafico:\n"
   ]
  },
  {
   "cell_type": "code",
   "execution_count": null,
   "metadata": {},
   "outputs": [],
   "source": [
    "sulH = d15.loc[(d15.Regiao == \"Sul\") & (d15.Sexo == \"Homem\")]\n",
    "sulmediaH = sulH.Renda.mean()\n",
    "\n",
    "sulM = d15.loc[(d15.Regiao == \"Sul\") & (d15.Sexo == \"Mulher\")]\n",
    "sulmediaM = sulM.Renda.mean()\n",
    "\n",
    "sudesteH = d15.loc[(d15.Regiao == \"Sudeste\") & (d15.Sexo == \"Homem\")]\n",
    "sudestemediaH = sudesteH.Renda.mean()\n",
    "\n",
    "sudesteM = d15.loc[(d15.Regiao == \"Sudeste\") & (d15.Sexo == \"Mulher\")]\n",
    "sudestemediaM = sudesteM.Renda.mean()\n",
    "\n",
    "centrooesteH = d15.loc[(d15.Regiao == \"Centro-Oeste\") & (d15.Sexo == \"Homem\")]\n",
    "mediacentroH = centrooesteH.Renda.mean()\n",
    "\n",
    "centrooesteM = d15.loc[(d15.Regiao == \"Centro-Oeste\") & (d15.Sexo == \"Mulher\")]\n",
    "mediacentroM = centrooesteM.Renda.mean()\n",
    "\n",
    "nordesteH = d15.loc[(d15.Regiao == \"Nordeste\") & (d15.Sexo == \"Homem\")]\n",
    "nordestemediaH = nordesteH.Renda.mean()\n",
    "\n",
    "nordesteM = d15.loc[(d15.Regiao == \"Nordeste\") & (d15.Sexo == \"Mulher\")]\n",
    "nordestemediaM = nordesteM.Renda.mean()\n",
    "\n",
    "\n",
    "norteH = d15.loc[(d15.Regiao == \"Norte\") & (d15.Sexo == \"Homem\")]\n",
    "nortemediaH = norteH.Renda.mean()\n",
    "\n",
    "norteM = d15.loc[(d15.Regiao == \"Norte\") & (d15.Sexo == \"Mulher\")]\n",
    "nortemediaM = norteM.Renda.mean()\n",
    "\n",
    "\n",
    "medias_rendimento = [mediacentro, mediaNordeste, mediaNorte, mediaSudeste , mediaSul]\n",
    "regioes = [\"Sul\",\"Sudeste\",\"Centro-Oeste\", \"Nordeste\", \"Norte\"]\n"
   ]
  },
  {
   "cell_type": "code",
   "execution_count": null,
   "metadata": {},
   "outputs": [],
   "source": [
    "sexo = [\"Homem\", \"Mulher\"]\n",
    "fig = plt.figure(figsize = (20,7))\n",
    "ysize = 4000\n",
    "\n",
    "plt.subplot(154)\n",
    "plt.bar(sexo, [sulmediaH, sulmediaM])\n",
    "plt.ylim(0, ysize)\n",
    "plt.title(\"Sul\")\n",
    "\n",
    "plt.subplot(153)\n",
    "plt.bar(sexo, [sudestemediaH, sudestemediaM])\n",
    "plt.ylim(0, ysize)\n",
    "plt.title(\"Sudeste\")\n",
    " \n",
    "plt.subplot(151)\n",
    "plt.bar(sexo, [mediacentroH, mediacentroM])\n",
    "plt.ylim(0, ysize)\n",
    "plt.title(\"Centro-Oeste\")\n",
    "\n",
    "plt.subplot(152)\n",
    "plt.bar(sexo, [nordestemediaH, nordestemediaM])\n",
    "plt.ylim(0, ysize)\n",
    "plt.title(\"Nordeste\")\n",
    "\n",
    "\n",
    "plt.subplot(155)\n",
    "plt.bar(sexo, [nortemediaH, nortemediaM])\n",
    "plt.ylim(0, ysize)\n",
    "plt.title(\"Norte\")\n",
    "\n",
    "\n",
    "plt.show()"
   ]
  },
  {
   "cell_type": "code",
   "execution_count": null,
   "metadata": {},
   "outputs": [],
   "source": [
    "\n",
    "d15.loc[(d15.Idade > 14) & (d15.Idade <= 18), \"FaixaIdade\"] = \"1\"\n",
    "d15.loc[(d15.Idade > 18) & (d15.Idade <= 25), \"FaixaIdade\"] = \"2\"\n",
    "d15.loc[(d15.Idade > 25) & (d15.Idade <= 30), \"FaixaIdade\"] = \"3\"\n",
    "d15.loc[(d15.Idade > 30) & (d15.Idade <= 45), \"FaixaIdade\"] = \"4\"\n",
    "d15.loc[(d15.Idade > 45) & (d15.Idade <= 65), \"FaixaIdade\"] = \"5\"\n",
    "d15.loc[(d15.Idade > 65), \"FaixaIdade\"] = \"6\"\n",
    "\n",
    "pd.crosstab(d15.FaixaIdade, d15.FaixaRenda)"
   ]
  },
  {
   "cell_type": "code",
   "execution_count": null,
   "metadata": {
    "scrolled": true
   },
   "outputs": [],
   "source": [
    "#plt.bar(d15.FaixaRenda, d15.FaixaIdade)\n",
    "print(d15.FaixaIdade)\n",
    "#plt.title(\"Renda média por Região\")\n",
    "#plt.show()"
   ]
  },
  {
   "cell_type": "code",
   "execution_count": null,
   "metadata": {},
   "outputs": [],
   "source": []
  },
  {
   "cell_type": "code",
   "execution_count": null,
   "metadata": {},
   "outputs": [],
   "source": []
  },
  {
   "cell_type": "code",
   "execution_count": null,
   "metadata": {},
   "outputs": [],
   "source": []
  }
 ],
 "metadata": {
  "kernelspec": {
   "display_name": "Python 3",
   "language": "python",
   "name": "python3"
  },
  "language_info": {
   "codemirror_mode": {
    "name": "ipython",
    "version": 3
   },
   "file_extension": ".py",
   "mimetype": "text/x-python",
   "name": "python",
   "nbconvert_exporter": "python",
   "pygments_lexer": "ipython3",
   "version": "3.7.2"
  }
 },
 "nbformat": 4,
 "nbformat_minor": 2
}
