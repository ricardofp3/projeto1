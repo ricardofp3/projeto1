{
 "cells": [
  {
   "cell_type": "code",
   "execution_count": 42,
   "metadata": {},
   "outputs": [],
   "source": [
    "%matplotlib inline\n",
    "import pandas as pd\n",
    "import numpy as np\n",
    "import math as math\n",
    "from scipy import stats\n",
    "import matplotlib.pyplot as plt"
   ]
  },
  {
   "cell_type": "markdown",
   "metadata": {},
   "source": [
    "O objetivo deste estudo é analisar a diferença entre a renda de homens e mulheres economicamente ativos considerando também os parâmetros idade e unidade federativa. Além disso fazer uma comparação entre os resultados obtidos nos anos de 2011 e 2015\n"
   ]
  },
  {
   "cell_type": "code",
   "execution_count": 43,
   "metadata": {},
   "outputs": [],
   "source": [
    "#dados2011 = pd.read_csv(\"PES2011.csv\")  \n",
    "dados2015 = pd.read_csv(\"PES2015.csv\")"
   ]
  },
  {
   "cell_type": "code",
   "execution_count": 44,
   "metadata": {},
   "outputs": [
    {
     "data": {
      "text/html": [
       "<div>\n",
       "<style scoped>\n",
       "    .dataframe tbody tr th:only-of-type {\n",
       "        vertical-align: middle;\n",
       "    }\n",
       "\n",
       "    .dataframe tbody tr th {\n",
       "        vertical-align: top;\n",
       "    }\n",
       "\n",
       "    .dataframe thead th {\n",
       "        text-align: right;\n",
       "    }\n",
       "</style>\n",
       "<table border=\"1\" class=\"dataframe\">\n",
       "  <thead>\n",
       "    <tr style=\"text-align: right;\">\n",
       "      <th></th>\n",
       "      <th>UF</th>\n",
       "      <th>Sexo</th>\n",
       "      <th>Idade</th>\n",
       "      <th>Rendimento</th>\n",
       "    </tr>\n",
       "  </thead>\n",
       "  <tbody>\n",
       "    <tr>\n",
       "      <th>0</th>\n",
       "      <td>11</td>\n",
       "      <td>2</td>\n",
       "      <td>23</td>\n",
       "      <td>800.0</td>\n",
       "    </tr>\n",
       "    <tr>\n",
       "      <th>1</th>\n",
       "      <td>11</td>\n",
       "      <td>4</td>\n",
       "      <td>23</td>\n",
       "      <td>1150.0</td>\n",
       "    </tr>\n",
       "    <tr>\n",
       "      <th>2</th>\n",
       "      <td>11</td>\n",
       "      <td>4</td>\n",
       "      <td>35</td>\n",
       "      <td>880.0</td>\n",
       "    </tr>\n",
       "    <tr>\n",
       "      <th>3</th>\n",
       "      <td>11</td>\n",
       "      <td>2</td>\n",
       "      <td>34</td>\n",
       "      <td>3000.0</td>\n",
       "    </tr>\n",
       "    <tr>\n",
       "      <th>7</th>\n",
       "      <td>11</td>\n",
       "      <td>4</td>\n",
       "      <td>18</td>\n",
       "      <td>880.0</td>\n",
       "    </tr>\n",
       "  </tbody>\n",
       "</table>\n",
       "</div>"
      ],
      "text/plain": [
       "   UF  Sexo  Idade  Rendimento\n",
       "0  11     2     23       800.0\n",
       "1  11     4     23      1150.0\n",
       "2  11     4     35       880.0\n",
       "3  11     2     34      3000.0\n",
       "7  11     4     18       880.0"
      ]
     },
     "execution_count": 44,
     "metadata": {},
     "output_type": "execute_result"
    }
   ],
   "source": [
    "d15 = dados2015[[\"UF\",'V0302',\"V8005\",\"V9532\"]]\n",
    "d15.columns = [\"UF\",\"Sexo\",\"Idade\",\"Rendimento\"]\n",
    "d15 = d15.loc[(d15[\"Idade\"]>= 16)]\n",
    "d15 = d15.loc[(d15[\"Rendimento\"] > 0) & (d15[\"Rendimento\"] <999999999999)]\n",
    "\n",
    "d15.head()"
   ]
  },
  {
   "cell_type": "markdown",
   "metadata": {},
   "source": []
  },
  {
   "cell_type": "code",
   "execution_count": 45,
   "metadata": {},
   "outputs": [
    {
     "data": {
      "text/html": [
       "<div>\n",
       "<style scoped>\n",
       "    .dataframe tbody tr th:only-of-type {\n",
       "        vertical-align: middle;\n",
       "    }\n",
       "\n",
       "    .dataframe tbody tr th {\n",
       "        vertical-align: top;\n",
       "    }\n",
       "\n",
       "    .dataframe thead th {\n",
       "        text-align: right;\n",
       "    }\n",
       "</style>\n",
       "<table border=\"1\" class=\"dataframe\">\n",
       "  <thead>\n",
       "    <tr style=\"text-align: right;\">\n",
       "      <th></th>\n",
       "      <th>UF</th>\n",
       "      <th>Sexo</th>\n",
       "      <th>Idade</th>\n",
       "      <th>Rendimento</th>\n",
       "      <th>Regiao</th>\n",
       "    </tr>\n",
       "  </thead>\n",
       "  <tbody>\n",
       "    <tr>\n",
       "      <th>0</th>\n",
       "      <td>11</td>\n",
       "      <td>Homem</td>\n",
       "      <td>23</td>\n",
       "      <td>800.0</td>\n",
       "      <td>Norte</td>\n",
       "    </tr>\n",
       "    <tr>\n",
       "      <th>1</th>\n",
       "      <td>11</td>\n",
       "      <td>Mulher</td>\n",
       "      <td>23</td>\n",
       "      <td>1150.0</td>\n",
       "      <td>Norte</td>\n",
       "    </tr>\n",
       "    <tr>\n",
       "      <th>2</th>\n",
       "      <td>11</td>\n",
       "      <td>Mulher</td>\n",
       "      <td>35</td>\n",
       "      <td>880.0</td>\n",
       "      <td>Norte</td>\n",
       "    </tr>\n",
       "    <tr>\n",
       "      <th>3</th>\n",
       "      <td>11</td>\n",
       "      <td>Homem</td>\n",
       "      <td>34</td>\n",
       "      <td>3000.0</td>\n",
       "      <td>Norte</td>\n",
       "    </tr>\n",
       "    <tr>\n",
       "      <th>7</th>\n",
       "      <td>11</td>\n",
       "      <td>Mulher</td>\n",
       "      <td>18</td>\n",
       "      <td>880.0</td>\n",
       "      <td>Norte</td>\n",
       "    </tr>\n",
       "  </tbody>\n",
       "</table>\n",
       "</div>"
      ],
      "text/plain": [
       "   UF    Sexo  Idade  Rendimento Regiao\n",
       "0  11   Homem     23       800.0  Norte\n",
       "1  11  Mulher     23      1150.0  Norte\n",
       "2  11  Mulher     35       880.0  Norte\n",
       "3  11   Homem     34      3000.0  Norte\n",
       "7  11  Mulher     18       880.0  Norte"
      ]
     },
     "execution_count": 45,
     "metadata": {},
     "output_type": "execute_result"
    }
   ],
   "source": [
    "d15.loc[(d15[\"Sexo\"] == 2), \"Sexo\"] = \"Homem\"\n",
    "d15.loc[(d15[\"Sexo\"] == 4), \"Sexo\"] = \"Mulher\"\n",
    "\n",
    "\n",
    "d15.loc[(d15.UF>10)&(d15.UF<20), \"Regiao\"] = \"Norte\"\n",
    "d15.loc[(d15.UF>20)&(d15.UF<29), \"Regiao\"] = \"Nordeste\"\n",
    "d15.loc[(d15.UF>30)&(d15.UF<35), \"Regiao\"] = \"Sudeste\"\n",
    "d15.loc[(d15.UF>40)&(d15.UF<43), \"Regiao\"] = \"Sul\"\n",
    "d15.loc[(d15.UF>50)&(d15.UF<54), \"Regiao\"] = \"Centro-Oeste\"\n",
    "\n",
    "d15.head()"
   ]
  },
  {
   "cell_type": "code",
   "execution_count": 46,
   "metadata": {},
   "outputs": [
    {
     "data": {
      "text/html": [
       "<div>\n",
       "<style scoped>\n",
       "    .dataframe tbody tr th:only-of-type {\n",
       "        vertical-align: middle;\n",
       "    }\n",
       "\n",
       "    .dataframe tbody tr th {\n",
       "        vertical-align: top;\n",
       "    }\n",
       "\n",
       "    .dataframe thead th {\n",
       "        text-align: right;\n",
       "    }\n",
       "</style>\n",
       "<table border=\"1\" class=\"dataframe\">\n",
       "  <thead>\n",
       "    <tr style=\"text-align: right;\">\n",
       "      <th>Regiao</th>\n",
       "      <th>Centro-Oeste</th>\n",
       "      <th>Nordeste</th>\n",
       "      <th>Norte</th>\n",
       "      <th>Sudeste</th>\n",
       "      <th>Sul</th>\n",
       "    </tr>\n",
       "    <tr>\n",
       "      <th>FaixaRenda</th>\n",
       "      <th></th>\n",
       "      <th></th>\n",
       "      <th></th>\n",
       "      <th></th>\n",
       "      <th></th>\n",
       "    </tr>\n",
       "  </thead>\n",
       "  <tbody>\n",
       "    <tr>\n",
       "      <th>1.0</th>\n",
       "      <td>4223</td>\n",
       "      <td>17539</td>\n",
       "      <td>11129</td>\n",
       "      <td>10440</td>\n",
       "      <td>2738</td>\n",
       "    </tr>\n",
       "    <tr>\n",
       "      <th>2.0</th>\n",
       "      <td>4292</td>\n",
       "      <td>5653</td>\n",
       "      <td>5457</td>\n",
       "      <td>9015</td>\n",
       "      <td>4824</td>\n",
       "    </tr>\n",
       "    <tr>\n",
       "      <th>3.0</th>\n",
       "      <td>3616</td>\n",
       "      <td>3328</td>\n",
       "      <td>3581</td>\n",
       "      <td>6306</td>\n",
       "      <td>3965</td>\n",
       "    </tr>\n",
       "    <tr>\n",
       "      <th>4.0</th>\n",
       "      <td>861</td>\n",
       "      <td>783</td>\n",
       "      <td>861</td>\n",
       "      <td>1302</td>\n",
       "      <td>800</td>\n",
       "    </tr>\n",
       "    <tr>\n",
       "      <th>5.0</th>\n",
       "      <td>1520</td>\n",
       "      <td>927</td>\n",
       "      <td>946</td>\n",
       "      <td>2052</td>\n",
       "      <td>1065</td>\n",
       "    </tr>\n",
       "  </tbody>\n",
       "</table>\n",
       "</div>"
      ],
      "text/plain": [
       "Regiao      Centro-Oeste  Nordeste  Norte  Sudeste   Sul\n",
       "FaixaRenda                                              \n",
       "1.0                 4223     17539  11129    10440  2738\n",
       "2.0                 4292      5653   5457     9015  4824\n",
       "3.0                 3616      3328   3581     6306  3965\n",
       "4.0                  861       783    861     1302   800\n",
       "5.0                 1520       927    946     2052  1065"
      ]
     },
     "execution_count": 46,
     "metadata": {},
     "output_type": "execute_result"
    }
   ],
   "source": [
    "d15.loc[(d15.Rendimento <= 950), \"FaixaRenda\"] = 1\n",
    "d15.loc[(d15.Rendimento > 950) & (d15.Rendimento <= 1500), \"FaixaRenda\"] = 2\n",
    "d15.loc[(d15.Rendimento > 1500) & (d15.Rendimento <= 3000), \"FaixaRenda\"] = 3\n",
    "d15.loc[(d15.Rendimento > 3000) & (d15.Rendimento <= 4500), \"FaixaRenda\"] = 4\n",
    "d15.loc[(d15.Rendimento > 4500), \"FaixaRenda\"] = 5\n",
    "pd.crosstab(d15.FaixaRenda, d15.Regiao)"
   ]
  },
  {
   "cell_type": "code",
   "execution_count": 47,
   "metadata": {},
   "outputs": [
    {
     "data": {
      "image/png": "[encoded data removed]",
      "text/plain": [
       "<Figure size 432x288 with 1 Axes>"
      ]
     },
     "metadata": {
      "needs_background": "light"
     },
     "output_type": "display_data"
    }
   ],
   "source": [
    "Prendimento = d15['FaixaRenda'].value_counts(normalize = True)*100\n",
    "Prendimento.plot(kind = \"bar\")\n",
    "plt.show()\n",
    "\n"
   ]
  },
  {
   "cell_type": "code",
   "execution_count": 49,
   "metadata": {},
   "outputs": [
    {
     "data": {
      "image/png": "[encoded data removed]",
      "text/plain": [
       "<Figure size 432x288 with 1 Axes>"
      ]
     },
     "metadata": {
      "needs_background": "light"
     },
     "output_type": "display_data"
    },
    {
     "data": {
      "text/html": [
       "<div>\n",
       "<style scoped>\n",
       "    .dataframe tbody tr th:only-of-type {\n",
       "        vertical-align: middle;\n",
       "    }\n",
       "\n",
       "    .dataframe tbody tr th {\n",
       "        vertical-align: top;\n",
       "    }\n",
       "\n",
       "    .dataframe thead th {\n",
       "        text-align: right;\n",
       "    }\n",
       "</style>\n",
       "<table border=\"1\" class=\"dataframe\">\n",
       "  <thead>\n",
       "    <tr style=\"text-align: right;\">\n",
       "      <th></th>\n",
       "      <th>UF</th>\n",
       "      <th>Sexo</th>\n",
       "      <th>Idade</th>\n",
       "      <th>Rendimento</th>\n",
       "      <th>Regiao</th>\n",
       "      <th>FaixaRenda</th>\n",
       "    </tr>\n",
       "  </thead>\n",
       "  <tbody>\n",
       "    <tr>\n",
       "      <th>0</th>\n",
       "      <td>11</td>\n",
       "      <td>Homem</td>\n",
       "      <td>23</td>\n",
       "      <td>800.0</td>\n",
       "      <td>Norte</td>\n",
       "      <td>1.0</td>\n",
       "    </tr>\n",
       "    <tr>\n",
       "      <th>1</th>\n",
       "      <td>11</td>\n",
       "      <td>Mulher</td>\n",
       "      <td>23</td>\n",
       "      <td>1150.0</td>\n",
       "      <td>Norte</td>\n",
       "      <td>2.0</td>\n",
       "    </tr>\n",
       "    <tr>\n",
       "      <th>2</th>\n",
       "      <td>11</td>\n",
       "      <td>Mulher</td>\n",
       "      <td>35</td>\n",
       "      <td>880.0</td>\n",
       "      <td>Norte</td>\n",
       "      <td>1.0</td>\n",
       "    </tr>\n",
       "    <tr>\n",
       "      <th>3</th>\n",
       "      <td>11</td>\n",
       "      <td>Homem</td>\n",
       "      <td>34</td>\n",
       "      <td>3000.0</td>\n",
       "      <td>Norte</td>\n",
       "      <td>3.0</td>\n",
       "    </tr>\n",
       "    <tr>\n",
       "      <th>7</th>\n",
       "      <td>11</td>\n",
       "      <td>Mulher</td>\n",
       "      <td>18</td>\n",
       "      <td>880.0</td>\n",
       "      <td>Norte</td>\n",
       "      <td>1.0</td>\n",
       "    </tr>\n",
       "  </tbody>\n",
       "</table>\n",
       "</div>"
      ],
      "text/plain": [
       "   UF    Sexo  Idade  Rendimento Regiao  FaixaRenda\n",
       "0  11   Homem     23       800.0  Norte         1.0\n",
       "1  11  Mulher     23      1150.0  Norte         2.0\n",
       "2  11  Mulher     35       880.0  Norte         1.0\n",
       "3  11   Homem     34      3000.0  Norte         3.0\n",
       "7  11  Mulher     18       880.0  Norte         1.0"
      ]
     },
     "execution_count": 49,
     "metadata": {},
     "output_type": "execute_result"
    }
   ],
   "source": [
    "centrooeste = d15[d15.Regiao == \"Centro-Oeste\"]\n",
    "mediacentro = centrooeste.Rendimento.mean()\n",
    "nordeste = d15[d15.Regiao == \"Nordeste\"]\n",
    "mediaNordeste = nordeste.Rendimento.mean()\n",
    "norte = d15[d15.Regiao == \"Norte\"]\n",
    "mediaNorte = norte.Rendimento.mean()\n",
    "sudeste = d15[d15.Regiao == \"Sudeste\"]\n",
    "mediaSudeste = sudeste.Rendimento.mean()\n",
    "sul = d15[d15.Regiao == \"Sul\"]\n",
    "mediaSul = sul.Rendimento.mean()\n",
    "\n",
    "medias_rendimento = [mediacentro, mediaNordeste, mediaNorte, mediaSudeste , mediaSul]\n",
    "regioes = [\"Centro-Oeste\", \"Nordeste\", \"Norte\", \"Sudeste\",\"Sul\"]\n",
    "plt.bar(regioes, medias_rendimento)\n",
    "plt.show()\n",
    "d15.head()"
   ]
  },
  {
   "cell_type": "code",
   "execution_count": 78,
   "metadata": {},
   "outputs": [],
   "source": [
    "sulH = d15.loc[(d15.Regiao == \"Sul\") & (d15.Sexo == \"Homem\")]\n",
    "sulmediaH = sulH.Rendimento.mean()\n",
    "\n",
    "sulM = d15.loc[(d15.Regiao == \"Sul\") & (d15.Sexo == \"Mulher\")]\n",
    "sulmediaM = sulM.Rendimento.mean()\n",
    "\n",
    "sudesteH = d15.loc[(d15.Regiao == \"Sudeste\") & (d15.Sexo == \"Homem\")]\n",
    "sudestemediaH = sudesteH.Rendimento.mean()\n",
    "\n",
    "sudesteM = d15.loc[(d15.Regiao == \"Sudeste\") & (d15.Sexo == \"Mulher\")]\n",
    "sudestemediaM = sudesteM.Rendimento.mean()\n",
    "\n",
    "centrooesteH = d15.loc[(d15.Regiao == \"Centro-Oeste\") & (d15.Sexo == \"Homem\")]\n",
    "mediacentroH = centrooesteH.Rendimento.mean()\n",
    "\n",
    "centrooesteM = d15.loc[(d15.Regiao == \"Centro-Oeste\") & (d15.Sexo == \"Mulher\")]\n",
    "mediacentroM = centrooesteM.Rendimento.mean()\n",
    "\n",
    "nordesteH = d15.loc[(d15.Regiao == \"Nordeste\") & (d15.Sexo == \"Homem\")]\n",
    "nordestemediaH = nordesteH.Rendimento.mean()\n",
    "\n",
    "nordesteM = d15.loc[(d15.Regiao == \"Nordeste\") & (d15.Sexo == \"Mulher\")]\n",
    "nordestemediaM = nordesteM.Rendimento.mean()\n",
    "\n",
    "\n",
    "norteH = d15.loc[(d15.Regiao == \"Norte\") & (d15.Sexo == \"Homem\")]\n",
    "nortemediaH = norteH.Rendimento.mean()\n",
    "\n",
    "norteM = d15.loc[(d15.Regiao == \"Norte\") & (d15.Sexo == \"Mulher\")]\n",
    "nortemediaM = norteM.Rendimento.mean()\n",
    "\n",
    "\n",
    "medias_rendimento = [mediacentro, mediaNordeste, mediaNorte, mediaSudeste , mediaSul]\n",
    "regioes = [\"Sul\",\"Sudeste\",\"Centro-Oeste\", \"Nordeste\", \"Norte\"]\n"
   ]
  },
  {
   "cell_type": "code",
   "execution_count": 80,
   "metadata": {},
   "outputs": [
    {
     "data": {
      "image/png": "[encoded data removed]",
      "text/plain": [
       "<Figure size 1440x504 with 5 Axes>"
      ]
     },
     "metadata": {
      "needs_background": "light"
     },
     "output_type": "display_data"
    }
   ],
   "source": [
    "sexo = [\"Homem\", \"Mulher\"]\n",
    "fig = plt.figure(figsize = (20,7))\n",
    "ysize = 4000\n",
    "\n",
    "plt.subplot(154)\n",
    "plt.bar(sexo, [sulmediaH, sulmediaM])\n",
    "plt.ylim(0, ysize)\n",
    "plt.title(\"Sul\")\n",
    "\n",
    "plt.subplot(153)\n",
    "plt.bar(sexo, [sudestemediaH, sudestemediaM])\n",
    "plt.ylim(0, ysize)\n",
    "plt.title(\"Sudeste\")\n",
    " \n",
    "plt.subplot(151)\n",
    "plt.bar(sexo, [mediacentroH, mediacentroM])\n",
    "plt.ylim(0, ysize)\n",
    "plt.title(\"Centro-Oeste\")\n",
    "\n",
    "plt.subplot(152)\n",
    "plt.bar(sexo, [nordestemediaH, nordestemediaM])\n",
    "plt.ylim(0, ysize)\n",
    "plt.title(\"Nordeste\")\n",
    "\n",
    "\n",
    "plt.subplot(155)\n",
    "plt.bar(sexo, [nortemediaH, nortemediaM])\n",
    "plt.ylim(0, ysize)\n",
    "plt.title(\"Norte\")\n",
    "\n",
    "\n",
    "plt.show()"
   ]
  },
  {
   "cell_type": "code",
   "execution_count": null,
   "metadata": {},
   "outputs": [],
   "source": []
  }
 ],
 "metadata": {
  "kernelspec": {
   "display_name": "Python 3",
   "language": "python",
   "name": "python3"
  },
  "language_info": {
   "codemirror_mode": {
    "name": "ipython",
    "version": 3
   },
   "file_extension": ".py",
   "mimetype": "text/x-python",
   "name": "python",
   "nbconvert_exporter": "python",
   "pygments_lexer": "ipython3",
   "version": "3.7.2"
  }
 },
 "nbformat": 4,
 "nbformat_minor": 2
}
