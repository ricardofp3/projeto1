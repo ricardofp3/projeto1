{
 "cells": [
  {
   "cell_type": "code",
   "execution_count": 2,
   "metadata": {},
   "outputs": [],
   "source": [
    "%matplotlib inline\n",
    "import pandas as pd\n",
    "import numpy as np\n",
    "import math as math\n",
    "from scipy import stats\n",
    "import matplotlib.pyplot as plt"
   ]
  },
  {
   "cell_type": "markdown",
   "metadata": {},
   "source": [
    "Problema pensado: Descrever o perfil dos brasileiros economicamente ativos relacionando as variáveis Unidade federativa, Sexo, Idade, Cor ou raça com o rendimento e fazer uma comparação entre 2011 e 2015"
   ]
  },
  {
   "cell_type": "code",
   "execution_count": null,
   "metadata": {},
   "outputs": [],
   "source": [
    "dados2011 = pd.read_csv(\"PES2011.csv\")  \n",
    "dados2015 = pd.read_csv(\"PES2015.csv\")"
   ]
  },
  {
   "cell_type": "code",
   "execution_count": null,
   "metadata": {},
   "outputs": [],
   "source": [
    "dados11 = dados2011[[\"UF\",'V0302',\"V8005\",\"V0404\",\"V9532\"]]\n",
    "dados11.columns = [\"Unidade Federativa\",\"Sexo\",\"Idade\",\"Cor ou raça\",\"Rendimento\"]\n",
    "dados11.head()"
   ]
  },
  {
   "cell_type": "markdown",
   "metadata": {},
   "source": []
  },
  {
   "cell_type": "code",
   "execution_count": null,
   "metadata": {},
   "outputs": [],
   "source": [
    "dados15 = dados2015[[\"UF\",'V0302',\"V8005\",\"V0404\",\"V9532\"]]\n",
    "dados15.columns = [\"Unidade Federativa\",\"Sexo\",\"Idade\",\"Cor ou raça\",\"Rendimento\"]\n",
    "dados15.head()"
   ]
  },
  {
   "cell_type": "code",
   "execution_count": null,
   "metadata": {},
   "outputs": [],
   "source": [
    "dados15.head(50)"
   ]
  },
  {
   "cell_type": "code",
   "execution_count": null,
   "metadata": {},
   "outputs": [],
   "source": []
  },
  {
   "cell_type": "code",
   "execution_count": null,
   "metadata": {},
   "outputs": [],
   "source": []
  }
 ],
 "metadata": {
  "kernelspec": {
   "display_name": "Python 3",
   "language": "python",
   "name": "python3"
  },
  "language_info": {
   "codemirror_mode": {
    "name": "ipython",
    "version": 3
   },
   "file_extension": ".py",
   "mimetype": "text/x-python",
   "name": "python",
   "nbconvert_exporter": "python",
   "pygments_lexer": "ipython3",
   "version": "3.7.2"
  }
 },
 "nbformat": 4,
 "nbformat_minor": 2
}
